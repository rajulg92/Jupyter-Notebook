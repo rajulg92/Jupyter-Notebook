{
 "cells": [
  {
   "cell_type": "code",
   "execution_count": 15,
   "metadata": {},
   "outputs": [
    {
     "name": "stderr",
     "output_type": "stream",
     "text": [
      "Using TensorFlow backend.\n"
     ]
    }
   ],
   "source": [
    "from __future__ import print_function\n",
    "import numpy as np\n",
    "import matplotlib.pyplot as plt\n",
    "from keras.models import Sequential\n",
    "from keras.layers import Dense, LSTM\n"
   ]
  },
  {
   "cell_type": "code",
   "execution_count": 16,
   "metadata": {
    "collapsed": true
   },
   "outputs": [],
   "source": [
    "# since we are using stateful rnn tsteps can be set to 1\n",
    "tsteps = 1\n",
    "batch_size = 25\n",
    "epochs = 3\n",
    "# number of elements ahead that are used to make the prediction\n",
    "lahead = 1"
   ]
  },
  {
   "cell_type": "code",
   "execution_count": 26,
   "metadata": {
    "collapsed": true
   },
   "outputs": [],
   "source": [
    "def gen_tanh_amp(amp=100, period=1000, x0=0, xn=50000, step=1, k=0.0001):\n",
    "    \"\"\"Generates an absolute cosine time series with the amplitude\n",
    "    exponentially decreasing\n",
    "    Arguments:\n",
    "        amp: amplitude of the cosine function\n",
    "        period: period of the cosine function\n",
    "        x0: initial x of the time series\n",
    "        xn: final x of the time series\n",
    "        step: step of the time series discretization\n",
    "        k: exponential rate\n",
    "    \"\"\"\n",
    "    tanh = np.zeros(((xn - x0) * step, 1, 1))\n",
    "    for i in range(len(tanh)):\n",
    "        idx = x0 + i * step\n",
    "        tanh[i, 0, 0] = amp * np.tanh(2 * np.pi * idx / period)\n",
    "        tanh[i, 0, 0] = tanh[i, 0, 0] * np.exp(-k * idx)\n",
    "    return tanh"
   ]
  },
  {
   "cell_type": "code",
   "execution_count": 27,
   "metadata": {},
   "outputs": [
    {
     "name": "stdout",
     "output_type": "stream",
     "text": [
      "Generating Data\n",
      "Input shape: (50000, 1, 1)\n",
      "[[[ 0.62824743]]\n",
      "\n",
      " [[ 1.25631963]]\n",
      "\n",
      " [[ 1.88416704]]\n",
      "\n",
      " [[ 2.51174019]]]\n"
     ]
    }
   ],
   "source": [
    "print('Generating Data')\n",
    "tanh = gen_tanh_amp()\n",
    "print('Input shape:', tanh.shape)\n",
    "print (tanh[1:5])"
   ]
  },
  {
   "cell_type": "code",
   "execution_count": 29,
   "metadata": {},
   "outputs": [
    {
     "name": "stdout",
     "output_type": "stream",
     "text": [
      "Output shape\n",
      "(50000, 1)\n",
      "[[ 1.25631963]\n",
      " [ 1.88416704]\n",
      " [ 2.51174019]\n",
      " [ 3.13898963]]\n"
     ]
    }
   ],
   "source": [
    "expected_output = np.zeros((len(tanh), 1))\n",
    "for i in range(len(tanh) - lahead):\n",
    "    expected_output[i, 0] = np.mean(tanh[i + 1:i + lahead + 1])\n",
    "\n",
    "print('Output shape')\n",
    "print(expected_output.shape)\n",
    "print (expected_output[1:5])"
   ]
  },
  {
   "cell_type": "code",
   "execution_count": 30,
   "metadata": {},
   "outputs": [
    {
     "name": "stdout",
     "output_type": "stream",
     "text": [
      "Creating Model\n"
     ]
    }
   ],
   "source": [
    "print('Creating Model')\n",
    "model = Sequential()\n",
    "model.add(LSTM(20,\n",
    "               batch_input_shape=(batch_size, tsteps, 1),\n",
    "               return_sequences=True,\n",
    "               stateful=True))\n",
    "model.add(LSTM(20,\n",
    "               batch_input_shape=(batch_size, tsteps, 1),\n",
    "               return_sequences=False,\n",
    "               stateful=True))\n",
    "model.add(Dense(1))\n",
    "model.compile(loss='mse', optimizer='rmsprop')"
   ]
  },
  {
   "cell_type": "code",
   "execution_count": 31,
   "metadata": {},
   "outputs": [
    {
     "name": "stdout",
     "output_type": "stream",
     "text": [
      "Training\n",
      "Epoch 0 / 3\n"
     ]
    },
    {
     "name": "stderr",
     "output_type": "stream",
     "text": [
      "C:\\Users\\rajul\\Anaconda3\\lib\\site-packages\\keras\\models.py:848: UserWarning: The `nb_epoch` argument in `fit` has been renamed `epochs`.\n",
      "  warnings.warn('The `nb_epoch` argument in `fit` '\n"
     ]
    },
    {
     "name": "stdout",
     "output_type": "stream",
     "text": [
      "Epoch 1/1\n",
      "50000/50000 [==============================] - 10s - loss: 674.8979    \n",
      "Epoch 1 / 3\n",
      "Epoch 1/1\n",
      "50000/50000 [==============================] - 8s - loss: 414.9826     \n",
      "Epoch 2 / 3\n",
      "Epoch 1/1\n",
      "50000/50000 [==============================] - 8s - loss: 281.2387     \n"
     ]
    }
   ],
   "source": [
    "print('Training')\n",
    "for i in range(epochs):\n",
    "    print('Epoch', i, '/', epochs)\n",
    "    model.fit(tanh,\n",
    "              expected_output,\n",
    "              batch_size=batch_size,\n",
    "              verbose=1,\n",
    "              nb_epoch=1,\n",
    "              shuffle=False)\n",
    "    model.reset_states()"
   ]
  },
  {
   "cell_type": "code",
   "execution_count": 32,
   "metadata": {},
   "outputs": [
    {
     "name": "stdout",
     "output_type": "stream",
     "text": [
      "Predicting\n",
      "[[ 1.25631963]\n",
      " [ 1.88416704]\n",
      " [ 2.51174019]\n",
      " [ 3.13898963]]\n",
      "[[ 1.62699127]\n",
      " [ 1.61865747]\n",
      " [ 1.61314189]\n",
      " [ 1.6100986 ]]\n",
      "(50000, 1)\n"
     ]
    }
   ],
   "source": [
    "print('Predicting')\n",
    "predicted_output = model.predict(tanh, batch_size=batch_size)\n",
    "print (expected_output[1:5])\n",
    "print (predicted_output[1:5])\n",
    "print (predicted_output.shape)"
   ]
  },
  {
   "cell_type": "code",
   "execution_count": 33,
   "metadata": {},
   "outputs": [
    {
     "name": "stdout",
     "output_type": "stream",
     "text": [
      "[[ 67.01859954]\n",
      " [ 67.01189802]\n",
      " [ 67.00519716]\n",
      " [ 66.99849698]]\n",
      "[[-1.35776436]\n",
      " [-1.36440599]\n",
      " [-1.36872494]\n",
      " [-1.37070191]]\n",
      "[[ 1.83119761]\n",
      " [ 1.8310145 ]\n",
      " [ 1.83083141]\n",
      " [ 1.83064834]]\n",
      "[[-1.79970729]\n",
      " [-1.79968679]\n",
      " [-1.79966629]\n",
      " [-1.79964626]]\n"
     ]
    }
   ],
   "source": [
    "print (expected_output[4001:4005])\n",
    "print (predicted_output[4001:4005])\n",
    "print (expected_output[40001:40005])\n",
    "print (predicted_output[40001:40005])"
   ]
  },
  {
   "cell_type": "code",
   "execution_count": 34,
   "metadata": {},
   "outputs": [
    {
     "name": "stdout",
     "output_type": "stream",
     "text": [
      "Plotting Results\n"
     ]
    },
    {
     "data": {
      "image/png": "[encoded data removed]",
      "text/plain": [
       "<matplotlib.figure.Figure at 0x1650aadf4e0>"
      ]
     },
     "metadata": {},
     "output_type": "display_data"
    }
   ],
   "source": [
    "print('Plotting Results')\n",
    "plt.subplot(2, 1, 1)\n",
    "plt.plot(expected_output)\n",
    "plt.title('Expected')\n",
    "plt.subplot(2, 1, 2)\n",
    "plt.plot(predicted_output)\n",
    "plt.title('Predicted')\n",
    "plt.show()"
   ]
  },
  {
   "cell_type": "code",
   "execution_count": 35,
   "metadata": {},
   "outputs": [
    {
     "data": {
      "image/png": "[encoded data removed]",
      "text/plain": [
       "<matplotlib.figure.Figure at 0x1650aadfda0>"
      ]
     },
     "metadata": {},
     "output_type": "display_data"
    }
   ],
   "source": [
    "plt.plot(predicted_output, 'r-', expected_output, 'b-')\n",
    "plt.show()"
   ]
  },
  {
   "cell_type": "code",
   "execution_count": null,
   "metadata": {},
   "outputs": [],
   "source": []
  },
  {
   "cell_type": "code",
   "execution_count": null,
   "metadata": {
    "collapsed": true
   },
   "outputs": [],
   "source": []
  }
 ],
 "metadata": {
  "kernelspec": {
   "display_name": "Python 3",
   "language": "python",
   "name": "python3"
  },
  "language_info": {
   "codemirror_mode": {
    "name": "ipython",
    "version": 3
   },
   "file_extension": ".py",
   "mimetype": "text/x-python",
   "name": "python",
   "nbconvert_exporter": "python",
   "pygments_lexer": "ipython3",
   "version": "3.6.3"
  }
 },
 "nbformat": 4,
 "nbformat_minor": 2
}
