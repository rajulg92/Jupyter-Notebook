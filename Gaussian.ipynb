{
 "cells": [
  {
   "cell_type": "code",
   "execution_count": 1,
   "metadata": {},
   "outputs": [
    {
     "data": {
      "image/png": "[encoded data removed]",
      "text/plain": [
       "<matplotlib.figure.Figure at 0x18c94ca4668>"
      ]
     },
     "metadata": {},
     "output_type": "display_data"
    },
    {
     "name": "stdout",
     "output_type": "stream",
     "text": [
      "1.0\n",
      "Classification report for classifier GaussianNB(priors=None):\n",
      "             precision    recall  f1-score   support\n",
      "\n",
      "        0.0       0.79      0.89      0.84       980\n",
      "        1.0       0.85      0.95      0.90      1135\n",
      "        2.0       0.90      0.26      0.40      1032\n",
      "        3.0       0.71      0.35      0.47      1010\n",
      "        4.0       0.88      0.17      0.29       982\n",
      "        5.0       0.55      0.05      0.09       892\n",
      "        6.0       0.65      0.93      0.77       958\n",
      "        7.0       0.88      0.27      0.42      1028\n",
      "        8.0       0.28      0.67      0.40       974\n",
      "        9.0       0.37      0.95      0.53      1009\n",
      "\n",
      "avg / total       0.69      0.56      0.52     10000\n",
      "\n",
      "\n",
      "Confusion matrix:\n",
      "[[ 870    0    3    5    2    5   31    1   35   28]\n",
      " [   0 1079    2    1    0    0   10    0   38    5]\n",
      " [  79   25  266   91    5    2  269    4  271   20]\n",
      " [  32   39    6  353    2    3   51    8  409  107]\n",
      " [  19    2    5    4  168    7   63    7  210  497]\n",
      " [  71   25    1   20    3   44   40    2  586  100]\n",
      " [  12   12    3    1    1    7  895    0   26    1]\n",
      " [   0   15    2   10    5    1    5  280   39  671]\n",
      " [  13   72    3    7    3   11   12    4  648  201]\n",
      " [   5    7    3    6    1    0    1   13   18  955]]\n",
      "Traning Accuracy is = 56.6417698866%\n",
      "Generalization Accuracy = 55.58%\n"
     ]
    }
   ],
   "source": [
    "from sklearn.naive_bayes import GaussianNB\n",
    "from sklearn.datasets.mldata import fetch_mldata\n",
    "from sklearn.neural_network import MLPClassifier\n",
    "import matplotlib.pyplot as plt \n",
    "import numpy as np\n",
    "from sklearn.metrics import confusion_matrix\n",
    "from sklearn.model_selection import cross_val_score\n",
    "from sklearn import datasets, svm, metrics\n",
    "from sklearn import tree\n",
    "from sklearn.ensemble import RandomForestClassifier\n",
    "from sklearn.datasets import make_classification\n",
    "\n",
    "dataset = fetch_mldata('MNIST original')\n",
    "\n",
    "#Importing the Data from the dataset \n",
    "X = dataset[\"data\"];\n",
    "y = dataset[\"target\"]; \n",
    "\n",
    "#Printing random image at 10062 position to verify the data fetch was successful or not \n",
    "element_num  = 10062\n",
    "temp = X[element_num].reshape(28,28)\n",
    "plt.imshow(temp)\n",
    "plt.show()\n",
    "print(y[element_num])              #Printing the label associated with the prinnted image \n",
    "\n",
    "#Separating the trainig and test data\n",
    "Train_X = X[:60000]; \n",
    "Train_y = y[:60000];\n",
    "Test_X  = X[60000:]; \n",
    "Test_y  = expected = y[60000:]; \n",
    "\n",
    "#Training data and the test data are separetd properly, \n",
    "#We dont need to worry about them. But as we are going to perform a cross-validation on the tranning set \n",
    "#lets make shufful it so that the data gets equally distributed and none of the data digits escape any of the \n",
    "#validation set or the traning set, as some algorithm only performs well on the equally distributed data. \n",
    "reviced_index = np.random.permutation(Train_X.shape[0])\n",
    "Train_X, Train_y = Train_X[reviced_index], Train_y[reviced_index]\n",
    "\n",
    "#Training the Model with the MLP Classifier with one hidden layer fully connected \n",
    "ML_model = GaussianNB()\n",
    "\n",
    "ML_model.fit(Train_X, Train_y); \n",
    "predicted=ML_model.predict(Test_X)\n",
    "\n",
    "print(\"Classification report for classifier %s:\\n%s\\n\"\n",
    "      % (ML_model, metrics.classification_report(expected, predicted)))\n",
    "print(\"Confusion matrix:\\n%s\" % metrics.confusion_matrix(expected, predicted))\n",
    "\n",
    "\n",
    "# Cross Validation for predicting training error\n",
    "#No of K = 10; \n",
    "score = cross_val_score(ML_model, Train_X, Train_y, cv= 3)\n",
    "print('Traning Accuracy is = ' + str(score.mean() * 100) + '%')\n",
    "\n",
    "# Test Error calculation \n",
    "Test_pred_y = ML_model.predict(Test_X);\n",
    "test_accuracy = sum(Test_pred_y == Test_y); \n",
    "print('Generalization Accuracy = ' + str(test_accuracy/len(Test_pred_y) * 100)+ '%');"
   ]
  },
  {
   "cell_type": "code",
   "execution_count": null,
   "metadata": {},
   "outputs": [],
   "source": []
  }
 ],
 "metadata": {
  "kernelspec": {
   "display_name": "Python 3",
   "language": "python",
   "name": "python3"
  },
  "language_info": {
   "codemirror_mode": {
    "name": "ipython",
    "version": 3
   },
   "file_extension": ".py",
   "mimetype": "text/x-python",
   "name": "python",
   "nbconvert_exporter": "python",
   "pygments_lexer": "ipython3",
   "version": "3.6.3"
  }
 },
 "nbformat": 4,
 "nbformat_minor": 2
}
